{
  "cells": [
    {
      "cell_type": "markdown",
      "metadata": {
        "id": "view-in-github",
        "colab_type": "text"
      },
      "source": [
        "<a href=\"https://colab.research.google.com/github/watilapm/CURSO/blob/master/Exercicios/Aula9_Exercicio.ipynb\" target=\"_parent\"><img src=\"https://colab.research.google.com/assets/colab-badge.svg\" alt=\"Open In Colab\"/></a>"
      ]
    },
    {
      "cell_type": "markdown",
      "metadata": {
        "id": "k92_GJC2OwAo"
      },
      "source": [
        "# Aula 9 - Exercício - Agregação com Pandas"
      ]
    },
    {
      "cell_type": "markdown",
      "metadata": {
        "id": "_nJJVge3PVNe"
      },
      "source": [
        "### Documentação do Autograder [Link](https://github.com/alexlopespereira/mba_enap/blob/main/Exercicios/Autograder.ipynb)\n",
        "\n",
        "\n",
        "*   Link para o gabarito das questões\n",
        "*   Imports padrão\n",
        "*   Instalação\n",
        "*   Autenticaçao para nota\n",
        "*   Validação\n",
        "\n",
        "\n"
      ]
    },
    {
      "cell_type": "code",
      "execution_count": 2,
      "metadata": {
        "id": "RkNwKAd8kJz5"
      },
      "outputs": [],
      "source": [
        "!pip install --upgrade ipynb_autograde > /dev/null"
      ]
    },
    {
      "cell_type": "code",
      "execution_count": 3,
      "metadata": {
        "id": "WxBHNGxie9BB",
        "outputId": "4f5c8e67-426b-44a1-e03c-323c06cd0b60",
        "colab": {
          "base_uri": "https://localhost:8080/"
        }
      },
      "outputs": [
        {
          "output_type": "stream",
          "name": "stdout",
          "text": [
            "env: COURSE=mba_enap\n",
            "Go to the following link in your browser, and complete the sign-in prompts:\n",
            "\n",
            "    https://accounts.google.com/o/oauth2/auth?response_type=code&client_id=32555940559.apps.googleusercontent.com&redirect_uri=https%3A%2F%2Fsdk.cloud.google.com%2Fauthcode.html&scope=openid+https%3A%2F%2Fwww.googleapis.com%2Fauth%2Fuserinfo.email+https%3A%2F%2Fwww.googleapis.com%2Fauth%2Fcloud-platform+https%3A%2F%2Fwww.googleapis.com%2Fauth%2Fappengine.admin+https%3A%2F%2Fwww.googleapis.com%2Fauth%2Fsqlservice.login+https%3A%2F%2Fwww.googleapis.com%2Fauth%2Fcompute+https%3A%2F%2Fwww.googleapis.com%2Fauth%2Faccounts.reauth&state=RkTApgiJbcKBbfiKILknd9Er9z8fMA&prompt=consent&token_usage=remote&access_type=offline&code_challenge=reK02P0mnTk7xVXGrhte4a7q-PvLhAW0kVU3Ll0GaWg&code_challenge_method=S256\n",
            "\n",
            "Once finished, enter the verification code provided in your browser: 4/0ASVgi3IEbCuz8SdCebkhmJ9ZABUOlxv0G1KLvcOEEheSqJRB561zIcwQn2LSh2jVZW7VDA\n",
            "\n",
            "You are now logged in as [watilapm@gmail.com].\n",
            "Your current project is [None].  You can change this setting by running:\n",
            "  $ gcloud config set project PROJECT_ID\n"
          ]
        }
      ],
      "source": [
        "%env  COURSE=mba_enap\n",
        "from ipynb_autograde.main import init_log, validate\n",
        "init_log()\n",
        "email_result=!gcloud config get-value account\n",
        "if not email_result or 'unset' in email_result[0]:\n",
        "  !gcloud auth login"
      ]
    },
    {
      "cell_type": "code",
      "execution_count": 4,
      "metadata": {
        "id": "R3jJ85H8OwAr"
      },
      "outputs": [],
      "source": [
        "# Faca o import das bibliotecas\n",
        "import pandas as pd\n",
        "import numpy as np"
      ]
    },
    {
      "cell_type": "markdown",
      "metadata": {
        "id": "ny_zhXxFOwAt"
      },
      "source": [
        "### 9.1 Escreva um prompt de uma função python para carregar os dados de população de 2017 e realizar as operações ilustradas na tabela a seguir. Retorne apenas os top 3 resultados ordenados pela soma.\n",
        "#### **Dica:** Coluna pop2017, e ```reset_index()```\n",
        "\n",
        "#### Entrada: ```'https://github.com/alexlopespereira/mba_enap/raw/refs/heads/main/data/originais/populacao/estimativa_dou_2017.xlsx'```\n",
        "\n",
        "\n",
        "### Resultado esperado: um dataframe igual a esse\n",
        "\n",
        "|    | uf   |      sum |     mean |   median |    std |\n",
        "|---:|:-----|---------:|---------:|---------:|-------:|\n",
        "|  0 | SP   | 45094866 |  69914.5 |    13810 | 489370 |\n",
        "|  1 | MG   | 21119536 |  24759.1 |     8287 | 100604 |\n",
        "|  2 | RJ   | 16718956 | 181728   |    35918 | 693337 |\n"
      ]
    },
    {
      "cell_type": "code",
      "execution_count": null,
      "metadata": {
        "id": "YASOjqDIXkMU"
      },
      "outputs": [],
      "source": [
        "d9_1_1 = 'https://github.com/alexlopespereira/mba_enap/raw/refs/heads/main/data/originais/populacao/estimativa_dou_2017.xlsx'"
      ]
    },
    {
      "cell_type": "code",
      "source": [
        "##### Faça Seus testes ###\n"
      ],
      "metadata": {
        "id": "2_5dKysMkF4r"
      },
      "execution_count": null,
      "outputs": []
    },
    {
      "cell_type": "code",
      "execution_count": 5,
      "metadata": {
        "id": "pP-pq8q_SqFI"
      },
      "outputs": [],
      "source": [
        "prompt91 = \"\"\"Escreva uma função Python que carregue os dados de população de 2017 a partir de um arquivo Excel (disponível em: [URL]) e realize as seguintes operações:\n",
        "\n",
        "Agrupe os dados por uf (Unidade Federativa).\n",
        "\n",
        "Para cada grupo, calcule: soma total, média, mediana e desvio padrão da coluna pop2017.\n",
        "\n",
        "Ordene os resultados pela soma total em ordem decrescente.\n",
        "\n",
        "Retorne apenas os 3 primeiros registros após a ordenação, com o índice resetado e sem níveis de hierarquia.\n",
        "\n",
        "Dicas:\n",
        "\n",
        "Use a coluna pop2017 para os cálculos.\n",
        "\n",
        "Utilize reset_index() para garantir a formatação correta do DataFrame final.\n",
        "\n",
        "O resultado esperado deve ter as colunas: uf, sum, mean, median, std.\"\"\""
      ]
    },
    {
      "cell_type": "code",
      "execution_count": 6,
      "metadata": {
        "id": "euAQ0fkXStP0",
        "outputId": "c42fb9b1-711c-4696-fbd4-5aa1921e6072",
        "colab": {
          "base_uri": "https://localhost:8080/"
        }
      },
      "outputs": [
        {
          "output_type": "stream",
          "name": "stdout",
          "text": [
            "Codigo gerado: \n",
            "def carregar_e_analisar_populacao(url):\n",
            "    # Carrega os dados do arquivo Excel\n",
            "    df = pd.read_excel(url)\n",
            "\n",
            "    # Agrupa os dados por UF e calcula as estatísticas\n",
            "    resultados = df.groupby('uf')['pop2017'].agg(\n",
            "        sum='sum',\n",
            "        mean='mean',\n",
            "        median='median',\n",
            "        std='std'\n",
            "    ).reset_index()\n",
            "\n",
            "    # Ordena os resultados pela soma total em ordem decrescente\n",
            "    resultados = resultados.sort_values(by='sum', ascending=False)\n",
            "\n",
            "    # Retorna os 3 primeiros registros\n",
            "    return resultados.head(3)\n",
            "\n",
            "✅ Passed the Test Case!\n",
            "  Expected: {'data': {'aggregation_checks': {'sum': {'mean': 276401.4, 'median': 58015.0, 'std': 1283310.7, 'sum': 82933358.0}, 'total_rows': {'max': 3, 'min': 3}}, 'columns': ['uf', 'sum', 'mean', 'median', 'std'], 'dtypes': {'mean': 'float64', 'median': 'float64', 'std': 'float64', 'sum': 'int64', 'uf': 'object'}, 'sample_rows': [{'expected_values': {'sum': 45094866}, 'filter': {'uf': 'SP'}}, {'expected_values': {'sum': 16718956}, 'filter': {'uf': 'RJ'}}]}, 'type': 'dataframe', 'validation_rules': {'round_decimals': 1, 'row_match_threshold': 0.9, 'tolerance': 3}}\n",
            "  Delivered: {'aggregation_summary': {'sums': {'mean': 276401.4, 'median': 58015.0, 'std': 1283310.7, 'sum': 82933358.0}, 'total_rows': {'max': 3, 'min': 3}}, 'column_analysis': {'expected_columns': ['uf', 'sum', 'mean', 'median', 'std'], 'missing_columns': [], 'possible_matches': {}, 'provided_columns': ['uf', 'sum', 'mean', 'median', 'std'], 'unexpected_columns': []}, 'verified_samples': [{'expected_values': {'sum': 45094866}, 'filter': {'uf': 'SP'}}, {'expected_values': {'sum': 16718956}, 'filter': {'uf': 'RJ'}}]}\n"
          ]
        }
      ],
      "source": [
        "validate(prompt91, \"A9-E1\")"
      ]
    },
    {
      "cell_type": "markdown",
      "metadata": {
        "id": "T8bUoRlHS5a3"
      },
      "source": [
        "### 9.2 Escreva um prompt de uma função python para carregar os dados do dataset do Titanic e realizar as operações ilustradas na tabela a seguir.\n",
        "#### **Dica:** Soma e mediana, e ```reset_index()```\n",
        "\n",
        "#### Entrada: ```'https://github.com/alexlopespereira/mba_enap/raw/main/data/originais/titanic/titanic.xls'```\n",
        "\n",
        "\n",
        "### Resultado esperado: um dataframe igual a esse\n",
        "\n",
        "\n",
        "|    |   pclass | sex    |   survived |   fare |\n",
        "|---:|---------:|:-------|-----------:|-------:|\n",
        "|  0 |        1 | female |        139 |   80.9 |\n",
        "|  1 |        1 | male   |         61 |   49.5 |\n",
        "|  2 |        2 | female |         94 |   23   |\n",
        "|  3 |        2 | male   |         25 |   13   |\n",
        "|  4 |        3 | female |        106 |   10.5 |\n",
        "|  5 |        3 | male   |         75 |    7.9 |\n"
      ]
    },
    {
      "cell_type": "code",
      "execution_count": null,
      "metadata": {
        "id": "4qfUCCbhXkMe"
      },
      "outputs": [],
      "source": [
        "d9_2_1 = 'https://github.com/alexlopespereira/mba_enap/raw/main/data/originais/titanic/titanic.xls'"
      ]
    },
    {
      "cell_type": "code",
      "source": [
        "import pandas as pd\n",
        "\n",
        "def processa_titanic():\n",
        "    url = 'https://github.com/alexlopespereira/mba_enap/raw/main/data/originais/titanic/titanic.xls'\n",
        "    df = pd.read_excel(url)\n",
        "\n",
        "    resultado = (\n",
        "        df.groupby(['pclass', 'sex'])\n",
        "        .agg(survived=('survived', 'sum'), fare=('fare', 'median'))\n",
        "        .reset_index()\n",
        "    )\n",
        "\n",
        "    return resultado\n"
      ],
      "metadata": {
        "id": "26lGt8NOkSJn"
      },
      "execution_count": 13,
      "outputs": []
    },
    {
      "cell_type": "code",
      "execution_count": 14,
      "metadata": {
        "id": "EKq0uHezeU1X"
      },
      "outputs": [],
      "source": [
        "prompt92 = \"\"\"Escreva uma função Python que:\n",
        "\n",
        "Carregue o dataset do Titanic a partir do arquivo Excel em [URL].\n",
        "\n",
        "Agrupe os dados por pclass (classe) e sex (sexo).\n",
        "\n",
        "Para cada grupo, calcule:\n",
        "\n",
        "Soma total de sobreviventes (survived)\n",
        "\n",
        "Mediana do valor da tarifa (fare)\n",
        "\n",
        "Retorne um DataFrame com as colunas: pclass, sex, survived, fare,\n",
        "com o índice resetado e ordenado por pclass e sex (feminino primeiro).\n",
        "\n",
        "Dica: Use reset_index() para formatar o resultado final.\"\"\""
      ]
    },
    {
      "cell_type": "code",
      "execution_count": 15,
      "metadata": {
        "id": "K2voYQypeEaD",
        "outputId": "0cdac934-ec66-4d6d-8e7c-495fdfb838df",
        "colab": {
          "base_uri": "https://localhost:8080/"
        }
      },
      "outputs": [
        {
          "output_type": "stream",
          "name": "stdout",
          "text": [
            "Codigo gerado: \n",
            "def process_titanic_data(url):\n",
            "    # Carregar o dataset do Titanic a partir do arquivo Excel\n",
            "    df = pd.read_excel(url)\n",
            "\n",
            "    # Agrupar os dados por pclass e sex\n",
            "    grouped = df.groupby(['pclass', 'sex']).agg(\n",
            "        survived=('survived', 'sum'),\n",
            "        fare=('fare', 'median')\n",
            "    ).reset_index()\n",
            "\n",
            "    # Ordenar por pclass e sex (feminino primeiro)\n",
            "    sorted_result = grouped.sort_values(by=['pclass', 'sex'])\n",
            "\n",
            "    return sorted_result\n",
            "\n",
            "✅ Passed the Test Case!\n",
            "  Expected: {'data': {'aggregation_checks': {'sum': {'fare': 184.8, 'pclass': 12.0, 'survived': 500.0}, 'total_rows': {'max': 6, 'min': 6}}, 'columns': ['pclass', 'sex', 'survived', 'fare'], 'dtypes': {'fare': 'float64', 'pclass': 'int64', 'sex': 'object', 'survived': 'int64'}, 'sample_rows': [{'expected_values': {'survived': 139}, 'filter': {'pclass': 1, 'sex': 'female'}}, {'expected_values': {'survived': 75}, 'filter': {'pclass': 3, 'sex': 'male'}}]}, 'type': 'dataframe', 'validation_rules': {'round_decimals': 1, 'row_match_threshold': 0.9, 'tolerance': 3}}\n",
            "  Delivered: {'aggregation_summary': {'sums': {'fare': 184.8, 'pclass': 12.0, 'survived': 500.0}, 'total_rows': {'max': 6, 'min': 6}}, 'column_analysis': {'expected_columns': ['pclass', 'sex', 'survived', 'fare'], 'missing_columns': [], 'possible_matches': {}, 'provided_columns': ['pclass', 'sex', 'survived', 'fare'], 'unexpected_columns': []}, 'verified_samples': [{'expected_values': {'survived': 139}, 'filter': {'pclass': 1, 'sex': 'female'}}, {'expected_values': {'survived': 75}, 'filter': {'pclass': 3, 'sex': 'male'}}]}\n"
          ]
        }
      ],
      "source": [
        "validate(prompt92, \"A9-E2\")"
      ]
    },
    {
      "cell_type": "markdown",
      "metadata": {
        "id": "o65FxFrYOwBF"
      },
      "source": [
        "### 9.3 Escreva uma função para realizar o agrupamento do dataset de mortalidade por UF, codigo ibge e nome do município aplicando a soma sobre as colunas Valor_total, Internações e Dias_permanência. Em seguida calcule, para todos os municípios nesta agregação, o custo médio diário das internações com a fórmula abaixo. Retorne um dataframe com os top 5 municipios segundo o custo médio de internação.\n",
        "#### **Dica:** a uf são os 2 primeiros dígitos do codigo ibge. ```reset_index()```. custo_medio_diario_intern = Valor total /  Dias_permanência\n",
        "#### Entrada: ```'https://github.com/alexlopespereira/mba_enap/raw/refs/heads/main/data/originais/morbidade/consolidado/morbidade.csv'```\n",
        "\n",
        "\n",
        "#### Resultado esperado: um dataframe igual a esse\n",
        "\n",
        "\n",
        "|      |   uf |   cod_ibge6 | Município             |      Valor_total |   Internações |   Dias_permanência |   custo_medio_diario_intern |\n",
        "|-----:|-----:|------------:|:----------------------|-----------------:|--------------:|-------------------:|----------------------------:|\n",
        "| 3967 |   41 |      410400 | Campina Grande do Sul |      3.32947e+07 |          7037 |              29277 |                      1137.2 |\n",
        "| 3864 |   35 |      355365 | Taquaral              | 382405           |           152 |                465 |                       822.4 |\n",
        "| 3685 |   35 |      353715 | Pedrinhas Paulista    | 769964           |           188 |               1004 |                       766.9 |\n",
        "| 3205 |   33 |      330205 | Italva                |      2.39501e+06 |           585 |               3160 |                       757.9 |\n",
        "| 3193 |   33 |      330115 | Cardoso Moreira       |      2.80194e+06 |           740 |               3840 |                       729.7 |"
      ]
    },
    {
      "cell_type": "code",
      "execution_count": null,
      "metadata": {
        "id": "zTC6RbuhXkMm"
      },
      "outputs": [],
      "source": [
        "d9_3_1 = 'https://github.com/alexlopespereira/mba_enap/raw/refs/heads/main/data/originais/morbidade/consolidado/morbidade.csv'"
      ]
    },
    {
      "cell_type": "code",
      "source": [
        "##### Faça Seus testes ###\n"
      ],
      "metadata": {
        "id": "6h0DK42gkVBm"
      },
      "execution_count": null,
      "outputs": []
    },
    {
      "cell_type": "code",
      "execution_count": null,
      "metadata": {
        "id": "MeYiPepMecVb"
      },
      "outputs": [],
      "source": [
        "prompt93 = \"\"\"AQUI\"\"\""
      ]
    },
    {
      "cell_type": "code",
      "execution_count": null,
      "metadata": {
        "id": "dRJiOiGZeGFd"
      },
      "outputs": [],
      "source": [
        "validate(prompt93, \"A9-E3\")"
      ]
    },
    {
      "cell_type": "markdown",
      "metadata": {
        "id": "gwC_H_9dOwBI"
      },
      "source": [
        "### 9.4 Crie um prompt de uma função python para retornar a soma do Valor_total dos 5 municípios (do exercício anterior) do dataset de Mortalidade (ao longo do período representado no dataset disponibilizado).\n",
        "\n",
        "#### Entradas: ```'https://github.com/alexlopespereira/mba_enap/raw/refs/heads/main/data/originais/morbidade/consolidado/morbidade.csv'``` e ```[\"410400\", \"330115\", \"330205\", \"353715\", \"355365\"]```\n",
        "\n",
        "#### Resultado esperado: um dataframe igual a esse\n",
        "|    | Município             |      Valor_total |\n",
        "|---:|:----------------------|-----------------:|\n",
        "|  0 | Campina Grande do Sul |      33294700.7 |\n",
        "|  1 | Cardoso Moreira       |      2801938.8 |\n",
        "|  2 | Italva                |      2395014.9 |\n",
        "|  3 | Pedrinhas Paulista    | 769964.0           |\n",
        "|  4 | Taquaral              | 382405.0           |\n",
        "\n"
      ]
    },
    {
      "cell_type": "code",
      "execution_count": null,
      "metadata": {
        "id": "GcLNkx4XXkMp"
      },
      "outputs": [],
      "source": [
        "d9_4_1 = 'https://github.com/alexlopespereira/mba_enap/raw/refs/heads/main/data/originais/morbidade/consolidado/morbidade.csv'\n",
        "d9_4_2 = [\"410400\", \"330115\", \"330205\", \"353715\", \"355365\"]"
      ]
    },
    {
      "cell_type": "code",
      "source": [
        "##### Faça Seus testes ###\n"
      ],
      "metadata": {
        "id": "EP7LdUizkV_5"
      },
      "execution_count": null,
      "outputs": []
    },
    {
      "cell_type": "code",
      "execution_count": null,
      "metadata": {
        "id": "xi6OzCcqepnc"
      },
      "outputs": [],
      "source": [
        "prompt94 = \"\"\"AQUI\"\"\""
      ]
    },
    {
      "cell_type": "code",
      "execution_count": null,
      "metadata": {
        "id": "zX0QjdxdeITJ"
      },
      "outputs": [],
      "source": [
        "validate(prompt94, \"A9-E4\")"
      ]
    },
    {
      "cell_type": "markdown",
      "metadata": {
        "id": "9cTqrAw0IXaY"
      },
      "source": [
        "### Exercício de Reflexão (Facultativo)\n",
        "#### Você aprendeu alguma coisa que pode ser reaproveitado em outros problemas?\n",
        "#### Como você pode melhorar seu processo de elaboração de requisitos / prompts?\n",
        "#### Você notou ambiguidade na sua especificação inicial?"
      ]
    },
    {
      "cell_type": "code",
      "execution_count": null,
      "metadata": {
        "id": "Y9yjEmHV2nKi"
      },
      "outputs": [],
      "source": [
        "resposta=\"\"\"AQUI\"\"\""
      ]
    },
    {
      "cell_type": "code",
      "execution_count": null,
      "metadata": {
        "id": "yLXjtjQaK6V1"
      },
      "outputs": [],
      "source": [
        "validate(resposta, \"A9-R1\")"
      ]
    },
    {
      "cell_type": "code",
      "execution_count": null,
      "metadata": {
        "id": "GQ9hcuF9MfJR"
      },
      "outputs": [],
      "source": []
    }
  ],
  "metadata": {
    "celltoolbar": "Create Assignment",
    "colab": {
      "provenance": [],
      "include_colab_link": true
    },
    "kernelspec": {
      "display_name": "Python 3",
      "language": "python",
      "name": "python3"
    },
    "language_info": {
      "codemirror_mode": {
        "name": "ipython",
        "version": 3
      },
      "file_extension": ".py",
      "mimetype": "text/x-python",
      "name": "python",
      "nbconvert_exporter": "python",
      "pygments_lexer": "ipython3",
      "version": "3.8.3"
    },
    "name": "_merged",
    "varInspector": {
      "cols": {
        "lenName": 16,
        "lenType": 16,
        "lenVar": 40
      },
      "kernels_config": {
        "python": {
          "delete_cmd_postfix": "",
          "delete_cmd_prefix": "del ",
          "library": "var_list.py",
          "varRefreshCmd": "print(var_dic_list())"
        },
        "r": {
          "delete_cmd_postfix": ") ",
          "delete_cmd_prefix": "rm(",
          "library": "var_list.r",
          "varRefreshCmd": "cat(var_dic_list()) "
        }
      },
      "types_to_exclude": [
        "module",
        "function",
        "builtin_function_or_method",
        "instance",
        "_Feature"
      ],
      "window_display": false
    }
  },
  "nbformat": 4,
  "nbformat_minor": 0
}